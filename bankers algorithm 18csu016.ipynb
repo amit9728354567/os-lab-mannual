{
 "cells": [
  {
   "cell_type": "code",
   "execution_count": 5,
   "metadata": {},
   "outputs": [
    {
     "name": "stdout",
     "output_type": "stream",
     "text": [
      "Following processes are in SAFE Sequence\n",
      " P1 -> P2 -> P3 -> P4 -> P0\n"
     ]
    }
   ],
   "source": [
    "# Banker's Algorithm \n",
    "if __name__==\"__main__\": \n",
    "\t\n",
    "\t# P0, P1, P2, P3, P4 are the Process names here \n",
    "\ta = 5 # Number of processes \n",
    "\tb = 3 # Number of resources \n",
    "\t\n",
    "\t# Allocation Matrix \n",
    "\tallocation = [[0, 1, 0 ],[ 2, 0, 0 ], \n",
    "\t\t\t[3, 0, 2 ],[2, 1, 1] ,[ 0, 0, 2]] \n",
    "\t\n",
    "\t# MAX Matrix \n",
    "\tmaximum = [[7, 5, 3 ],[3, 2, 2 ], \n",
    "\t\t\t[ 9, 0, 2 ],[2, 2, 2],[4, 3, 3]] \n",
    "\t\n",
    "\tavailable = [4, 4, 2] # Available Resources \n",
    "\t\n",
    "\tf = [0]*a \n",
    "\tans = [0]*a \n",
    "\tind = 0\n",
    "\tfor k in range(a): \n",
    "\t\tf[k] = 0\n",
    "\t\t\n",
    "\tneed = [[ 0 for i in range(b)]for i in range(a)] \n",
    "\tfor i in range(a): \n",
    "\t\tfor j in range(b): \n",
    "\t\t\tneed[i][j] = max[i][j] - allocation[i][j] \n",
    "\ty = 0\n",
    "\tfor k in range(5): \n",
    "\t\tfor i in range(a): \n",
    "\t\t\tif (f[i] == 0): \n",
    "\t\t\t\tflag = 0\n",
    "\t\t\t\tfor j in range(b): \n",
    "\t\t\t\t\tif (need[i][j] > available[j]): \n",
    "\t\t\t\t\t\tflag = 1\n",
    "\t\t\t\t\t\tbreak\n",
    "\t\t\t\t\n",
    "\t\t\t\tif (flag == 0): \n",
    "\t\t\t\t\tans[ind] = i \n",
    "\t\t\t\t\tind += 1\n",
    "\t\t\t\t\tfor y in range(b): \n",
    "\t\t\t\t\t\tavailable[y] += allocation[i][y] \n",
    "\t\t\t\t\tf[i] = 1\n",
    "\t\t\t\t\t\n",
    "\tprint(\"Following processes are in SAFE Sequence\") \n",
    "\t\n",
    "\tfor i in range(a - 1): \n",
    "\t\tprint(\" P\", ans[i], \" ->\", sep=\"\", end=\"\") \n",
    "\tprint(\" P\", ans[a - 1], sep=\"\")\n",
    "    \n",
    "              \n",
    "\n",
    " \n"
   ]
  },
  {
   "cell_type": "code",
   "execution_count": null,
   "metadata": {},
   "outputs": [],
   "source": []
  }
 ],
 "metadata": {
  "kernelspec": {
   "display_name": "Python 3",
   "language": "python",
   "name": "python3"
  },
  "language_info": {
   "codemirror_mode": {
    "name": "ipython",
    "version": 3
   },
   "file_extension": ".py",
   "mimetype": "text/x-python",
   "name": "python",
   "nbconvert_exporter": "python",
   "pygments_lexer": "ipython3",
   "version": "3.8.3"
  }
 },
 "nbformat": 4,
 "nbformat_minor": 4
}
