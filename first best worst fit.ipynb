{
 "cells": [
  {
   "cell_type": "code",
   "execution_count": 1,
   "metadata": {},
   "outputs": [
    {
     "name": "stdout",
     "output_type": "stream",
     "text": [
      " Process No. Process Size\t Block no.\n",
      "  1 \t\t  212 \t\t  2\n",
      "  2 \t\t  417 \t\t  5\n",
      "  3 \t\t  112 \t\t  2\n",
      "  4 \t\t  426 \t\t  Not Allocated\n"
     ]
    }
   ],
   "source": [
    "# Python3 implementation of First-Fit algorithm \n",
    "\n",
    "# Function to allocate memory to \n",
    "# blocks as per First fit algorithm \n",
    "def firstFit(blockSize, m, processSize, n): \n",
    "\t\n",
    "\t# Stores block id of the \n",
    "\t# block allocated to a process \n",
    "\tallocation = [-1] * n \n",
    "\n",
    "\t# Initially no block is assigned to any process \n",
    "\n",
    "\t# pick each process and find suitable blocks \n",
    "\t# according to its size ad assign to it \n",
    "\tfor i in range(n): \n",
    "\t\tfor j in range(m): \n",
    "\t\t\tif blockSize[j] >= processSize[i]: \n",
    "\t\t\t\t\n",
    "\t\t\t\t# allocate block j to p[i] process \n",
    "\t\t\t\tallocation[i] = j \n",
    "\n",
    "\t\t\t\t# Reduce available memory in this block. \n",
    "\t\t\t\tblockSize[j] -= processSize[i] \n",
    "\n",
    "\t\t\t\tbreak\n",
    "\n",
    "\tprint(\" Process No. Process Size\t Block no.\") \n",
    "\tfor i in range(n): \n",
    "\t\tprint(\" \", i + 1, \"\t\t \", processSize[i], \n",
    "\t\t\t\t\t\t\"\t\t \", end = \" \") \n",
    "\t\tif allocation[i] != -1: \n",
    "\t\t\tprint(allocation[i] + 1) \n",
    "\t\telse: \n",
    "\t\t\tprint(\"Not Allocated\") \n",
    "\n",
    "# Driver code \n",
    "if __name__ == '__main__': \n",
    "\tblockSize = [100, 500, 200, 300, 600] \n",
    "\tprocessSize = [212, 417, 112, 426] \n",
    "\tm = len(blockSize) \n",
    "\tn = len(processSize) \n",
    "\n",
    "\tfirstFit(blockSize, m, processSize, n) \n",
    "\t\n",
    "\n"
   ]
  },
  {
   "cell_type": "markdown",
   "metadata": {},
   "source": [
    "# worst"
   ]
  },
  {
   "cell_type": "code",
   "execution_count": 2,
   "metadata": {},
   "outputs": [
    {
     "name": "stdout",
     "output_type": "stream",
     "text": [
      "Process No. Process Size Block no.\n",
      "1 \t\t  212\t 5\n",
      "2 \t\t  417\t 2\n",
      "3 \t\t  112\t 5\n",
      "4 \t\t  426\t Not Allocated\n"
     ]
    }
   ],
   "source": [
    "# Python3 implementation of worst - Fit algorithm \n",
    "\n",
    "# Function to allocate memory to blocks as \n",
    "# per worst fit algorithm \n",
    "def worstFit(blockSize, m, processSize, n): \n",
    "\t\n",
    "\t# Stores block id of the block \n",
    "\t# allocated to a process \n",
    "\t\n",
    "\t# Initially no block is assigned \n",
    "\t# to any process \n",
    "\tallocation = [-1] * n \n",
    "\t\n",
    "\t# pick each process and find suitable blocks \n",
    "\t# according to its size ad assign to it \n",
    "\tfor i in range(n): \n",
    "\t\t\n",
    "\t\t# Find the best fit block for \n",
    "\t\t# current process \n",
    "\t\twstIdx = -1\n",
    "\t\tfor j in range(m): \n",
    "\t\t\tif blockSize[j] >= processSize[i]: \n",
    "\t\t\t\tif wstIdx == -1: \n",
    "\t\t\t\t\twstIdx = j \n",
    "\t\t\t\telif blockSize[wstIdx] < blockSize[j]: \n",
    "\t\t\t\t\twstIdx = j \n",
    "\n",
    "\t\t# If we could find a block for \n",
    "\t\t# current process \n",
    "\t\tif wstIdx != -1: \n",
    "\t\t\t\n",
    "\t\t\t# allocate block j to p[i] process \n",
    "\t\t\tallocation[i] = wstIdx \n",
    "\n",
    "\t\t\t# Reduce available memory in this block. \n",
    "\t\t\tblockSize[wstIdx] -= processSize[i] \n",
    "\n",
    "\tprint(\"Process No. Process Size Block no.\") \n",
    "\tfor i in range(n): \n",
    "\t\tprint(i + 1, \"\t\t \", \n",
    "\t\t\tprocessSize[i], end = \"\t \") \n",
    "\t\tif allocation[i] != -1: \n",
    "\t\t\tprint(allocation[i] + 1) \n",
    "\t\telse: \n",
    "\t\t\tprint(\"Not Allocated\") \n",
    "\n",
    "# Driver code \n",
    "if __name__ == '__main__': \n",
    "\tblockSize = [100, 500, 200, 300, 600] \n",
    "\tprocessSize = [212, 417, 112, 426] \n",
    "\tm = len(blockSize) \n",
    "\tn = len(processSize) \n",
    "\n",
    "\tworstFit(blockSize, m, processSize, n) \n",
    "\n",
    "\n"
   ]
  },
  {
   "cell_type": "markdown",
   "metadata": {},
   "source": [
    "# best"
   ]
  },
  {
   "cell_type": "code",
   "execution_count": 3,
   "metadata": {},
   "outputs": [
    {
     "name": "stdout",
     "output_type": "stream",
     "text": [
      "Process No. Process Size\t Block no.\n",
      "1 \t\t  212\t\t 4\n",
      "2 \t\t  417\t\t 2\n",
      "3 \t\t  112\t\t 3\n",
      "4 \t\t  426\t\t 5\n"
     ]
    }
   ],
   "source": [
    "# Python3 implementation of Best - Fit algorithm \n",
    "\n",
    "# Function to allocate memory to blocks \n",
    "# as per Best fit algorithm \n",
    "def bestFit(blockSize, m, processSize, n): \n",
    "\t\n",
    "\t# Stores block id of the block \n",
    "\t# allocated to a process \n",
    "\tallocation = [-1] * n \n",
    "\t\n",
    "\t# pick each process and find suitable \n",
    "\t# blocks according to its size ad \n",
    "\t# assign to it \n",
    "\tfor i in range(n): \n",
    "\t\t\n",
    "\t\t# Find the best fit block for \n",
    "\t\t# current process \n",
    "\t\tbestIdx = -1\n",
    "\t\tfor j in range(m): \n",
    "\t\t\tif blockSize[j] >= processSize[i]: \n",
    "\t\t\t\tif bestIdx == -1: \n",
    "\t\t\t\t\tbestIdx = j \n",
    "\t\t\t\telif blockSize[bestIdx] > blockSize[j]: \n",
    "\t\t\t\t\tbestIdx = j \n",
    "\n",
    "\t\t# If we could find a block for \n",
    "\t\t# current process \n",
    "\t\tif bestIdx != -1: \n",
    "\t\t\t\n",
    "\t\t\t# allocate block j to p[i] process \n",
    "\t\t\tallocation[i] = bestIdx \n",
    "\n",
    "\t\t\t# Reduce available memory in this block. \n",
    "\t\t\tblockSize[bestIdx] -= processSize[i] \n",
    "\n",
    "\tprint(\"Process No. Process Size\t Block no.\") \n",
    "\tfor i in range(n): \n",
    "\t\tprint(i + 1, \"\t\t \", processSize[i], \n",
    "\t\t\t\t\t\t\t\tend = \"\t\t \") \n",
    "\t\tif allocation[i] != -1: \n",
    "\t\t\tprint(allocation[i] + 1) \n",
    "\t\telse: \n",
    "\t\t\tprint(\"Not Allocated\") \n",
    "\n",
    "# Driver code \n",
    "if __name__ == '__main__': \n",
    "\tblockSize = [100, 500, 200, 300, 600] \n",
    "\tprocessSize = [212, 417, 112, 426] \n",
    "\tm = len(blockSize) \n",
    "\tn = len(processSize) \n",
    "\n",
    "\tbestFit(blockSize, m, processSize, n) \n",
    "\t\n",
    "\n"
   ]
  },
  {
   "cell_type": "code",
   "execution_count": null,
   "metadata": {},
   "outputs": [],
   "source": []
  }
 ],
 "metadata": {
  "kernelspec": {
   "display_name": "Python 3",
   "language": "python",
   "name": "python3"
  },
  "language_info": {
   "codemirror_mode": {
    "name": "ipython",
    "version": 3
   },
   "file_extension": ".py",
   "mimetype": "text/x-python",
   "name": "python",
   "nbconvert_exporter": "python",
   "pygments_lexer": "ipython3",
   "version": "3.8.3"
  }
 },
 "nbformat": 4,
 "nbformat_minor": 4
}
