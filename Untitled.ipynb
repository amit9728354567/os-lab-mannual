{
 "cells": [
  {
   "cell_type": "code",
   "execution_count": 2,
   "metadata": {},
   "outputs": [
    {
     "name": "stdout",
     "output_type": "stream",
     "text": [
      "Enter All value with space\n",
      "1 2 3 4 5 6\n"
     ]
    }
   ],
   "source": [
    "import numpy as np\n",
    "print (\"Enter All value with space\")\n",
    "inputss = [int(x) for x in input().split()] # Taking input, for python2 raw_input\n",
    "inputs = np.array(inputss)"
   ]
  },
  {
   "cell_type": "code",
   "execution_count": 3,
   "metadata": {},
   "outputs": [
    {
     "data": {
      "text/plain": [
       "array([1, 2, 3, 4, 5, 6])"
      ]
     },
     "execution_count": 3,
     "metadata": {},
     "output_type": "execute_result"
    }
   ],
   "source": [
    "inputs"
   ]
  },
  {
   "cell_type": "code",
   "execution_count": 5,
   "metadata": {},
   "outputs": [
    {
     "data": {
      "text/plain": [
       "[[1, 1, 2], [2, 3, 4], [3, 5, 6]]"
      ]
     },
     "execution_count": 5,
     "metadata": {},
     "output_type": "execute_result"
    }
   ],
   "source": [
    "process = inputs.reshape((int(len(inputs)/2), 2)) #converting 2d\n",
    "process = process.tolist() #converting Normal list\n",
    "# Adding Task number\n",
    "# \n",
    "# 0 means adding to ) no index\n",
    "#\n",
    "for p in range(len(process)):\n",
    "    process[p].insert(0, p+1)\n",
    "\n",
    "process"
   ]
  },
  {
   "cell_type": "code",
   "execution_count": 6,
   "metadata": {},
   "outputs": [
    {
     "data": {
      "text/plain": [
       "[[1, 1, 2], [2, 3, 4], [3, 5, 6]]"
      ]
     },
     "execution_count": 6,
     "metadata": {},
     "output_type": "execute_result"
    }
   ],
   "source": [
    "sjf = sorted(process,key=lambda x: (x[2],x[1])) \n",
    "#\n",
    "# Sorting list by index 2 and then 1\n",
    "# Index 0 = process no\n",
    "# index 1 = AT\n",
    "# index 2 = BT\n",
    "#\n",
    "\n",
    "sjf"
   ]
  },
  {
   "cell_type": "code",
   "execution_count": 7,
   "metadata": {},
   "outputs": [
    {
     "name": "stdout",
     "output_type": "stream",
     "text": [
      "Compltion time for P1 is: 3\n",
      "Compltion time for P2 is: 7\n",
      "Compltion time for P3 is: 13\n"
     ]
    }
   ],
   "source": [
    "ct = []\n",
    "for i in range(int(len(sjf))):\n",
    "    if i == 0: \n",
    "    # for first task ct is null so ct = at + bt of that process\n",
    "        ct.append(sjf[i][1] + sjf[i][2])\n",
    "    else:\n",
    "        ct.append(sjf[i][2] + ct[i-1])\n",
    "\n",
    "# printing Compltion time\n",
    "for i in range(len(ct)):\n",
    "    print (\"Compltion time for P{} is: {}\".format(sjf[i][0],ct[i]))"
   ]
  },
  {
   "cell_type": "code",
   "execution_count": 8,
   "metadata": {},
   "outputs": [
    {
     "name": "stdout",
     "output_type": "stream",
     "text": [
      "Turn Around Time for P1 is: 2\n",
      "Turn Around Time for P2 is: 4\n",
      "Turn Around Time for P3 is: 8\n",
      "Average Turn Around Time for all process is:  4.67\n"
     ]
    }
   ],
   "source": [
    "tat = []\n",
    "for i in range(int(len(sjf))):\n",
    "    tat.append(ct[i] - sjf[i][1])\n",
    "    \n",
    "# printing Turn Around Time\n",
    "for i in range(len(tat)):\n",
    "    print (\"Turn Around Time for P{} is: {}\".format(sjf[i][0],tat[i]))\n",
    "\n",
    "avarage_TAT = round(np.mean(tat),2)\n",
    "print (\"Average Turn Around Time for all process is: \",avarage_TAT)\n"
   ]
  },
  {
   "cell_type": "code",
   "execution_count": 9,
   "metadata": {},
   "outputs": [
    {
     "name": "stdout",
     "output_type": "stream",
     "text": [
      "Waiting time for P1 is: 0\n",
      "Waiting time for P2 is: 0\n",
      "Waiting time for P3 is: 2\n"
     ]
    }
   ],
   "source": [
    "wt = []\n",
    "for i in range(int(len(sjf))):\n",
    "    wt.append(tat[i] - sjf[i][2])\n",
    "    \n",
    "# printing Waiting time\n",
    "for i in range(len(wt)):\n",
    "    print (\"Waiting time for P{} is: {}\".format(sjf[i][0],wt[i]))\n"
   ]
  },
  {
   "cell_type": "code",
   "execution_count": 10,
   "metadata": {},
   "outputs": [
    {
     "name": "stdout",
     "output_type": "stream",
     "text": [
      "Average Waiting Time for all process is:  0.67\n"
     ]
    }
   ],
   "source": [
    "avarage_WT = round(np.mean(wt),2)\n",
    "print (\"Average Waiting Time for all process is: \",avarage_WT)"
   ]
  },
  {
   "cell_type": "code",
   "execution_count": null,
   "metadata": {},
   "outputs": [],
   "source": []
  },
  {
   "cell_type": "code",
   "execution_count": null,
   "metadata": {},
   "outputs": [],
   "source": []
  }
 ],
 "metadata": {
  "kernelspec": {
   "display_name": "Python 3",
   "language": "python",
   "name": "python3"
  },
  "language_info": {
   "codemirror_mode": {
    "name": "ipython",
    "version": 3
   },
   "file_extension": ".py",
   "mimetype": "text/x-python",
   "name": "python",
   "nbconvert_exporter": "python",
   "pygments_lexer": "ipython3",
   "version": "3.8.3"
  }
 },
 "nbformat": 4,
 "nbformat_minor": 4
}
